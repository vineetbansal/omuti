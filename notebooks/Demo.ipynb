{
 "cells": [
  {
   "cell_type": "code",
   "execution_count": null,
   "id": "d9d5cd35-3d5b-4f11-99df-7af19ce21e28",
   "metadata": {},
   "outputs": [],
   "source": [
    "import os.path\n",
    "import warnings\n",
    "import fiona\n",
    "import geopandas\n",
    "import rasterio\n",
    "import rasterio.plot\n",
    "from rasterio.windows import Window\n",
    "import folium\n",
    "import matplotlib.pyplot as plt"
   ]
  },
  {
   "cell_type": "code",
   "execution_count": null,
   "id": "f29f8efb-a0c0-4c71-9aa2-e2e3ae0621e6",
   "metadata": {},
   "outputs": [],
   "source": [
    "GDB = '/data/projects/kreike/data/KreikeSampleExtractedDataNam52022.gdb/'\n",
    "TIFF = '/data/projects/kreike/data/Aerial1970_May12_2021_secondGCPsTest.tif'"
   ]
  },
  {
   "cell_type": "code",
   "execution_count": null,
   "id": "5bae7453-6b11-45dc-84e4-ca2fb5cca602",
   "metadata": {},
   "outputs": [],
   "source": [
    "def subset(input_tif, output_tif, gdf, band_index=1):\n",
    "    with rasterio.open(input_tif) as raster:\n",
    "        if raster.crs != gdf.crs:\n",
    "            raise AssertionError\n",
    "\n",
    "        _minx, _miny, _maxx, _maxy = tuple(gdf.total_bounds)\n",
    "        _col_off1, _row_off1 = ~raster.transform * (_minx, _miny)\n",
    "        _col_off2, _row_off2 = ~raster.transform * (_maxx, _maxy)\n",
    "        _width, _height = _col_off2-_col_off1, _row_off1-_row_off2\n",
    "\n",
    "        window = Window(\n",
    "            _col_off1,\n",
    "            _row_off2,\n",
    "            _width,\n",
    "            _height\n",
    "        )\n",
    "\n",
    "        band = raster.read(\n",
    "            band_index,\n",
    "            window=window\n",
    "        )\n",
    "\n",
    "    with rasterio.open(\n",
    "            output_tif,\n",
    "            mode='w',\n",
    "            driver='GTiff',\n",
    "            height=band.shape[0],\n",
    "            width=band.shape[1],\n",
    "            count=1,\n",
    "            dtype=band.dtype,\n",
    "            crs=raster.crs.wkt,\n",
    "            transform=rasterio.windows.transform(window, raster.transform),\n",
    "    ) as new_dataset:\n",
    "        new_dataset.write(band, indexes=1)"
   ]
  },
  {
   "cell_type": "code",
   "execution_count": null,
   "id": "b5ee6a9b-622b-4d2b-9185-856da360a451",
   "metadata": {},
   "outputs": [],
   "source": [
    "world = geopandas.read_file(geopandas.datasets.get_path('naturalearth_lowres'))\n",
    "# Set index to the country name (unique)\n",
    "world = world.set_index('name', drop=False)\n",
    "\n",
    "africa = world[(world['continent'] == 'Africa')]\n",
    "# Some attributes, like area/centroid/boundary, are available to us for 'world', since it has a geometry column\n",
    "print(africa.area['Angola'])  # world.area is a Series, indexed by the same index as the DataFrame (country)\n",
    "\n",
    "# The active geometry of a GeoDataFrame gives us a GeoSeries that we can plot/explore\n",
    "# africa.plot()  # explore() works in jupyter\n",
    "roi = africa[((africa['name'] == 'Angola') | (africa['name'] == 'Namibia'))]\n",
    "roi = africa\n",
    "\n",
    "layers = fiona.listlayers(GDB)\n",
    "print(layers)\n",
    "gdf = geopandas.read_file(GDB, layer='Omuti1972')\n",
    "\n",
    "roi = roi.to_crs(gdf.crs)\n",
    "fig, ax = plt.subplots(nrows=1, ncols=1, sharey='all', sharex='all')\n",
    "ax.ticklabel_format(useOffset=False, style='plain')\n",
    "\n",
    "subset(TIFF, 'subset.tif', gdf)\n",
    "with rasterio.open('subset.tif', 'r') as raster:\n",
    "    rasterio.plot.show(raster, with_bounds=True, ax=ax)\n",
    "    roi.plot(ax=ax, color='lightgrey', edgecolor=None)\n",
    "    gdf.plot(ax=ax, color='blue')"
   ]
  },
  {
   "cell_type": "code",
   "execution_count": null,
   "id": "398d3d9a-f345-402a-809a-b9dcf146dc80",
   "metadata": {},
   "outputs": [],
   "source": [
    "gdf.explore()"
   ]
  },
  {
   "cell_type": "code",
   "execution_count": null,
   "id": "7baabafc-eac1-429f-b1f2-6bbb733c3361",
   "metadata": {},
   "outputs": [],
   "source": [
    "raster_bounds = None\n",
    "with rasterio.open('../subset_reprojected.png') as raster:\n",
    "    b = raster.bounds  # left, bottom, right, top\n",
    "    raster_bounds = [[b[1], b[0]], [b[3], b[2]]]  # [[lat_min, lon_min], [lat_max, lon_max]]\n",
    "        \n",
    "geo_json1 = africa.geometry.to_json()\n",
    "# Folium by default accepts lat/long (crs 4326) as input\n",
    "geo_json2 = gdf.to_crs(epsg=4326).geometry.to_json()\n",
    "geo_j1 = folium.GeoJson(data=geo_json1)\n",
    "geo_j2 = folium.GeoJson(data=geo_json2)\n",
    "\n",
    "map = folium.Map()\n",
    "geo_j1.add_to(map)\n",
    "geo_j2.add_to(map)\n",
    "\n",
    "overlay = folium.raster_layers.ImageOverlay(\n",
    "    name=\"Aerial Image\",\n",
    "    image='../subset_reprojected.png',\n",
    "    bounds=raster_bounds,\n",
    "    interactive=True,\n",
    "    cross_origin=True,\n",
    "    zindex=0,\n",
    ")\n",
    "overlay.add_to(map)\n",
    "folium.LayerControl().add_to(map)\n",
    "    \n",
    "map"
   ]
  },
  {
   "cell_type": "code",
   "execution_count": null,
   "id": "25fdb133-93ec-4091-af47-31a1885eaa24",
   "metadata": {},
   "outputs": [],
   "source": [
    "gdf = geopandas.read_file(GDB, layer='Omuti1972')\n",
    "gdf.explore()"
   ]
  },
  {
   "cell_type": "code",
   "execution_count": null,
   "id": "1c50f28f-11ff-4dd4-8071-8763449ee8fd",
   "metadata": {},
   "outputs": [],
   "source": []
  }
 ],
 "metadata": {
  "kernelspec": {
   "display_name": "Python 3 (ipykernel)",
   "language": "python",
   "name": "python3"
  },
  "language_info": {
   "codemirror_mode": {
    "name": "ipython",
    "version": 3
   },
   "file_extension": ".py",
   "mimetype": "text/x-python",
   "name": "python",
   "nbconvert_exporter": "python",
   "pygments_lexer": "ipython3",
   "version": "3.10.5"
  }
 },
 "nbformat": 4,
 "nbformat_minor": 5
}
